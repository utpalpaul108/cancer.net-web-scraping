{
 "cells": [
  {
   "cell_type": "markdown",
   "metadata": {},
   "source": [
    "## Cancer Care Data Extraction"
   ]
  },
  {
   "cell_type": "code",
   "execution_count": 1,
   "metadata": {},
   "outputs": [],
   "source": [
    "# Import Libraries\n",
    "import requests\n",
    "from bs4 import BeautifulSoup\n",
    "import pandas as pd\n",
    "import numpy as np\n",
    "import os\n",
    "import re"
   ]
  },
  {
   "cell_type": "code",
   "execution_count": 2,
   "metadata": {},
   "outputs": [
    {
     "data": {
      "text/plain": [
       "'/home/utpal108/dev/Python/Projects/cancer.net-web-scraping'"
      ]
     },
     "execution_count": 2,
     "metadata": {},
     "output_type": "execute_result"
    }
   ],
   "source": [
    "os.chdir('../')\n",
    "%pwd"
   ]
  },
  {
   "cell_type": "code",
   "execution_count": 3,
   "metadata": {},
   "outputs": [],
   "source": [
    "from webScraping.constants import *\n",
    "from webScraping.utils import getSectionUrl"
   ]
  },
  {
   "cell_type": "code",
   "execution_count": 9,
   "metadata": {},
   "outputs": [],
   "source": [
    "# Components\n",
    "class DataExtraction:\n",
    "\n",
    "    def __init__(self, dir_name):\n",
    "        self.headers = {'User-Agent': \"Mozilla/5.0 (Windows NT 10.0; Win64; x64) AppleWebKit/537.36 (KHTML, like Gecko) Chrome/42.0.2311.135 Safari/537.36 Edge/12.246\"}\n",
    "        self.dir_path = os.path.join('artifacts','data',dir_name)\n",
    "        self.skip_contents = skip_contents\n",
    "        self.partially_skip_contents = partially_skip_contents\n",
    "        os.makedirs(self.dir_path, exist_ok=True)\n",
    "        \n",
    "\n",
    "    def get_sections(self, URL):\n",
    "    \n",
    "        response = requests.get(URL, headers = self.headers)\n",
    "        soup = BeautifulSoup(response.content, 'html.parser')\n",
    "\n",
    "        sections_url = []\n",
    "        sections = soup.find('article')\n",
    "        sections = sections.find('div', class_='field-name-field-page-sub-pages').find('div', class_='field-items')\n",
    "        sections = sections.find_all('article')\n",
    "        \n",
    "\n",
    "        for section in sections:\n",
    "            sections_url.append(getSectionUrl(section))\n",
    "\n",
    "        return sections_url\n",
    "    \n",
    "\n",
    "    def get_section_topics(self, section_url):\n",
    "        response = requests.get(section_url, headers = self.headers)\n",
    "        soup = BeautifulSoup(response.content, 'html.parser')\n",
    "\n",
    "        section_topics_url = []\n",
    "        section_topics = soup.find('article')\n",
    "        if section_topics is not None:\n",
    "            section_topics = section_topics.find('div',class_='field-name-field-page-sub-pages')\n",
    "        if section_topics is None:\n",
    "            self.get_topic_content(section_url)\n",
    "        \n",
    "        else:\n",
    "            section_topics = section_topics.find('div',class_='field-items')\n",
    "\n",
    "            for section_topic in section_topics:\n",
    "                section_topics_url.append(getSectionUrl(section_topic))\n",
    "        \n",
    "        return section_topics_url\n",
    "    \n",
    "\n",
    "    def get_topic_content(self, topic_url):\n",
    "\n",
    "        response = requests.get(topic_url, headers = self.headers)\n",
    "        soup = BeautifulSoup(response.content, 'html.parser')\n",
    "\n",
    "        df  = {\n",
    "            'question':[],\n",
    "            'answer':[]\n",
    "        }\n",
    "\n",
    "        articles = soup.find_all('article')\n",
    "        \n",
    "        if len(articles) > 1:\n",
    "            section_topics = self.get_section_topics(topic_url)\n",
    "            for section_topic_url in section_topics:\n",
    "                self.get_topic_content(section_topic_url)\n",
    "        \n",
    "        topic_name = topic_url.split('/')[-1]\n",
    "        questions = soup.find_all('h3')\n",
    "        skip_contents = [content.lower() for content in self.skip_contents]\n",
    "        partially_skip_contents = [content.lower() for content in self.partially_skip_contents]\n",
    "        questions = [question for question in questions if question.text.strip() != '' and question.text.strip().lower() not in skip_contents and not any(re.findall(r\"\\b(\" + \"|\".join(partially_skip_contents) + r\")\\b\", question.text.strip().lower()))]\n",
    "        \n",
    "        for question in questions:\n",
    "            df['question'].append(question.text.strip())\n",
    "            answer = \"\"\n",
    "            next_element = question.find_next_sibling()\n",
    "            while next_element and next_element.name != 'h3':\n",
    "                answer += next_element.text.strip() + \" \"\n",
    "                next_element = next_element.find_next_sibling()\n",
    "            \n",
    "            df['answer'].append(answer)\n",
    "\n",
    "        \n",
    "        if len(df['question']) > 0 and len(df['answer']) > 0:\n",
    "            data_path = os.path.join(self.dir_path,topic_name+'.csv')\n",
    "            df = pd.DataFrame(df)\n",
    "            df.to_csv(data_path, index=False)\n",
    "\n",
    "        "
   ]
  },
  {
   "cell_type": "code",
   "execution_count": 10,
   "metadata": {},
   "outputs": [
    {
     "data": {
      "text/plain": [
       "[]"
      ]
     },
     "execution_count": 10,
     "metadata": {},
     "output_type": "execute_result"
    }
   ],
   "source": [
    "data_extraction = DataExtraction('cancer-care')\n",
    "section_topics = data_extraction.get_section_topics('https://cancernet.gallery.video/collection')\n",
    "section_topics"
   ]
  },
  {
   "cell_type": "code",
   "execution_count": 11,
   "metadata": {},
   "outputs": [
    {
     "name": "stdout",
     "output_type": "stream",
     "text": [
      "https://www.cancer.net/navigating-cancer-care/cancer-basics\n",
      "https://www.cancer.net/navigating-cancer-care/diagnosing-cancer\n",
      "https://www.cancer.net/navigating-cancer-care/managing-your-care\n",
      "https://www.cancer.net/navigating-cancer-care/financial-considerations\n",
      "https://www.cancer.net/navigating-cancer-care/how-cancer-treated\n",
      "https://www.cancer.net/coping-with-cancer/physical-emotional-and-social-effects-cancer\n",
      "https://www.cancer.net/navigating-cancer-care/dating-sex-and-reproduction\n",
      "https://www.cancer.net/navigating-cancer-care/advanced-cancer\n",
      "https://www.cancer.net/navigating-cancer-care/when-cancer-not-your-only-health-concern\n",
      "https://www.cancer.net/navigating-cancer-care/children\n",
      "https://www.cancer.net/navigating-cancer-care/young-adults-and-teenagers\n",
      "https://www.cancer.net/navigating-cancer-care/adults-65\n",
      "https://www.cancer.net/navigating-cancer-care/us-veterans\n",
      "https://www.cancer.net/navigating-cancer-care/prevention-and-healthy-living\n"
     ]
    },
    {
     "name": "stderr",
     "output_type": "stream",
     "text": [
      "Some characters could not be decoded, and were replaced with REPLACEMENT CHARACTER.\n"
     ]
    },
    {
     "name": "stdout",
     "output_type": "stream",
     "text": [
      "https://cancernet.gallery.video/collection\n"
     ]
    }
   ],
   "source": [
    "data_extraction = DataExtraction('cancer-care')\n",
    "sections = data_extraction.get_sections('https://www.cancer.net/navigating-cancer-care')\n",
    "for section_url in sections:\n",
    "    print(section_url)\n",
    "    section_topics = data_extraction.get_section_topics(section_url)\n",
    "    for section_topic_url in section_topics:\n",
    "        # print(section_topic_url)\n",
    "        data_extraction.get_topic_content(section_topic_url)"
   ]
  },
  {
   "cell_type": "code",
   "execution_count": 5,
   "metadata": {},
   "outputs": [],
   "source": [
    "# Pipeline\n",
    "try:\n",
    "    data_extraction = DataExtraction('cancer-care')\n",
    "    sections = data_extraction.get_sections('https://www.cancer.net/navigating-cancer-care')\n",
    "    for section_url in sections:\n",
    "        try:\n",
    "            section_topics = data_extraction.get_section_topics(section_url)\n",
    "            for section_topic_url in section_topics:\n",
    "                try:\n",
    "                    data_extraction.get_topic_content(section_topic_url)\n",
    "                except:\n",
    "                    continue\n",
    "        except:\n",
    "            continue\n",
    "\n",
    "except Exception as e:\n",
    "    pass"
   ]
  },
  {
   "cell_type": "code",
   "execution_count": null,
   "metadata": {},
   "outputs": [],
   "source": []
  }
 ],
 "metadata": {
  "kernelspec": {
   "display_name": "venv",
   "language": "python",
   "name": "python3"
  },
  "language_info": {
   "codemirror_mode": {
    "name": "ipython",
    "version": 3
   },
   "file_extension": ".py",
   "mimetype": "text/x-python",
   "name": "python",
   "nbconvert_exporter": "python",
   "pygments_lexer": "ipython3",
   "version": "3.10.12"
  }
 },
 "nbformat": 4,
 "nbformat_minor": 2
}
