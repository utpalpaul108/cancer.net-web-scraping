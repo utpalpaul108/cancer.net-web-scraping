{
 "cells": [
  {
   "cell_type": "markdown",
   "metadata": {},
   "source": [
    "## Cancer Care Data Extraction"
   ]
  },
  {
   "cell_type": "code",
   "execution_count": 1,
   "metadata": {},
   "outputs": [],
   "source": [
    "# Import Libraries\n",
    "import requests\n",
    "from bs4 import BeautifulSoup\n",
    "import pandas as pd\n",
    "import numpy as np\n",
    "import os\n",
    "import re"
   ]
  },
  {
   "cell_type": "code",
   "execution_count": 2,
   "metadata": {},
   "outputs": [],
   "source": [
    "headers = {'User-Agent': \"Mozilla/5.0 (Windows NT 10.0; Win64; x64) AppleWebKit/537.36 (KHTML, like Gecko) Chrome/42.0.2311.135 Safari/537.36 Edge/12.246\"} "
   ]
  },
  {
   "cell_type": "code",
   "execution_count": 3,
   "metadata": {},
   "outputs": [],
   "source": [
    "def get_sections():\n",
    "    \n",
    "    URL = 'https://www.cancer.net/navigating-cancer-care'\n",
    "    response = requests.get(URL, headers = headers)\n",
    "    soup = BeautifulSoup(response.content, 'html.parser')\n",
    "\n",
    "    sections_url = []\n",
    "    sections = soup.find('article')\n",
    "    sections = sections.find('div', class_='field-name-field-page-sub-pages').find('div', class_='field-items')\n",
    "    sections = sections.find_all('article')\n",
    "\n",
    "    for section in sections:\n",
    "        sections_url.append('https://www.cancer.net' + section.select('header h3 a')[0]['href'])\n",
    "\n",
    "    return sections_url"
   ]
  },
  {
   "cell_type": "code",
   "execution_count": 4,
   "metadata": {},
   "outputs": [
    {
     "name": "stdout",
     "output_type": "stream",
     "text": [
      "15\n",
      "['https://www.cancer.net/navigating-cancer-care/cancer-basics', 'https://www.cancer.net/navigating-cancer-care/diagnosing-cancer', 'https://www.cancer.net/navigating-cancer-care/managing-your-care', 'https://www.cancer.net/navigating-cancer-care/financial-considerations', 'https://www.cancer.net/navigating-cancer-care/how-cancer-treated', 'https://www.cancer.nethttps://www.cancer.net/coping-with-cancer/physical-emotional-and-social-effects-cancer', 'https://www.cancer.net/navigating-cancer-care/dating-sex-and-reproduction', 'https://www.cancer.net/navigating-cancer-care/advanced-cancer', 'https://www.cancer.net/navigating-cancer-care/when-cancer-not-your-only-health-concern', 'https://www.cancer.net/navigating-cancer-care/children', 'https://www.cancer.net/navigating-cancer-care/young-adults-and-teenagers', 'https://www.cancer.net/navigating-cancer-care/adults-65', 'https://www.cancer.net/navigating-cancer-care/us-veterans', 'https://www.cancer.net/navigating-cancer-care/prevention-and-healthy-living', 'https://www.cancer.nethttps://cancernet.gallery.video/collection']\n"
     ]
    }
   ],
   "source": [
    "all_sections = get_sections()\n",
    "print(len(all_sections))\n",
    "print(all_sections)"
   ]
  },
  {
   "cell_type": "code",
   "execution_count": 5,
   "metadata": {},
   "outputs": [],
   "source": [
    "def get_section_topics(section_url):\n",
    "    response = requests.get(section_url, headers = headers)\n",
    "    soup = BeautifulSoup(response.content, 'html.parser')\n",
    "\n",
    "    section_topics_url = []\n",
    "    section_topics = soup.find('article')\n",
    "    section_topics = section_topics.find('div',class_='field-name-field-page-sub-pages').find('div',class_='field-items')\n",
    "\n",
    "    for section_topic in section_topics:\n",
    "        section_topics_url.append('https://www.cancer.net'+section_topic.select('header h3 a')[0]['href'])\n",
    "\n",
    "    return section_topics_url"
   ]
  },
  {
   "cell_type": "code",
   "execution_count": 6,
   "metadata": {},
   "outputs": [
    {
     "data": {
      "text/plain": [
       "['https://www.cancer.net/navigating-cancer-care/diagnosing-cancer/when-doctor-says-%E2%80%9Ccancer%E2%80%9D',\n",
       " 'https://www.cancer.net/navigating-cancer-care/diagnosing-cancer/questions-ask-your-health-care-team',\n",
       " 'https://www.cancer.net/navigating-cancer-care/diagnosing-cancer/tests-and-procedures',\n",
       " 'https://www.cancer.net/navigating-cancer-care/diagnosing-cancer/reports-and-results',\n",
       " 'https://www.cancer.net/navigating-cancer-care/diagnosing-cancer/stages-cancer']"
      ]
     },
     "execution_count": 6,
     "metadata": {},
     "output_type": "execute_result"
    }
   ],
   "source": [
    "get_section_topics('https://www.cancer.net/navigating-cancer-care/diagnosing-cancer')"
   ]
  },
  {
   "cell_type": "code",
   "execution_count": 10,
   "metadata": {},
   "outputs": [],
   "source": [
    "def get_topic_content(topic_url):\n",
    "\n",
    "    response = requests.get(topic_url, headers = headers)\n",
    "    soup = BeautifulSoup(response.content, 'html.parser')\n",
    "\n",
    "    cancer_care_df  = {\n",
    "        'question':[],\n",
    "        'answer':[]\n",
    "    }\n",
    "\n",
    "    articles = soup.find_all('article')\n",
    "    \n",
    "    if len(articles) > 1:\n",
    "        section_topics = get_section_topics(topic_url)\n",
    "        for section_topic_url in section_topics:\n",
    "            get_topic_content(section_topic_url)\n",
    "    \n",
    "    else:\n",
    "        topic_name = re.sub(r'[^a-zA-Z0-9\\s\\'-]', '', topic_url.split('/')[-1])\n",
    "        questions = soup.find_all('h3')\n",
    "        \n",
    "        for question in questions:\n",
    "            cancer_care_df['question'].append(question.text.strip())\n",
    "            \n",
    "            answer = \"\"\n",
    "            next_element = question.find_next_sibling()\n",
    "            while next_element and next_element.name != 'h3':\n",
    "                answer += next_element.text.strip() + \" \"\n",
    "                next_element = next_element.find_next_sibling()\n",
    "            \n",
    "            cancer_care_df['answer'].append(answer)\n",
    "\n",
    "        df = pd.DataFrame(cancer_care_df)\n",
    "        dir_path = 'data/cancer-care'\n",
    "        os.makedirs(dir_path, exist_ok=True)\n",
    "        data_path = os.path.join(dir_path,topic_name+'.csv')\n",
    "        if len(cancer_care_df['question']) > 0 and len(cancer_care_df['answer']) > 0:\n",
    "            df.to_csv(data_path, index=False)\n",
    "\n",
    "        return cancer_care_df"
   ]
  },
  {
   "cell_type": "code",
   "execution_count": 11,
   "metadata": {},
   "outputs": [
    {
     "data": {
      "text/plain": [
       "{'question': ['What is an oncologist?',\n",
       "  'Who else is on my oncology team?',\n",
       "  'Questions to ask about your health care team',\n",
       "  'Related Resources',\n",
       "  'More Information',\n",
       "  'More in this section'],\n",
       " 'answer': ['An oncologist is a doctor who specializes in diagnosing and treating cancer. Your oncologist oversees your care from diagnosis throughout the course of the disease. In cancer care, a patient is often treated by a team of oncologists who specialize in different areas of oncology and types of treatments. For instance, a medical oncologist uses medications to treat cancer, a radiation oncologist specializes in radiation therapy to treat cancer, and a surgical oncologist is a cancer surgeon. Learn more about the different types of oncologists. ',\n",
       "  \"In addition to oncologists, there may be other specialists on your cancer care team. Here are descriptions of different providers who may be involved in your care. This may be helpful as you learn the role of each person involved in your treatment and care. You are encouraged to ask questions and communicate regularly with members of your care team about how you are feeling and any concerns you have. Oncology nurse. Oncology nurses are nurses who specialize in cancer care. They serve in many roles, depending on their experience, education, and specialized certifications. The responsibilities of an oncology nurse may include: Giving physical examinations\\n\\n\\nGiving chemotherapy or other medications\\n\\n\\nIdentifying patient needs, including symptoms and side effects\\n\\n\\nCoordinating care with other members of the oncology team\\n\\n\\nEducating and counseling patients and families about cancer and its treatment\\n\\n\\nPerforming research as part of a clinical trial Advanced providers, like oncology nurse practitioner (NPs) and oncology physician assistants (PAs). These providers meet with patients and will collaborate with the oncology team, including a supervising oncologist. Their responsibilities may include: Giving physical examinations\\n\\n\\nOrdering and interpreting laboratory and diagnostic test results\\n\\n\\nDiagnosing cancer and other illnesses\\n\\n\\nPrescribing and administering medications and other therapies\\n\\n\\nPerforming procedures and assisting with surgery\\n\\n\\nProviding education and counseling for patients and families\\n\\n\\nPerforming research as part of a clinical trial Patient navigator. This individual guides people from diagnosis through survivorship. A patient navigator can help you find counseling, financial, and other support services. Patient navigators can be nurses, social workers, or volunteers. They might also be called patient educators. Palliative care doctors and nurses. The palliative care team works closely with other oncology team members to prevent and treat the symptoms and side effects of cancer and its treatment. This may also be called supportive care. A palliative care specialist is especially helpful when a person is still experiencing pain and other symptoms despite treatment for these symptoms. Oncology social worker. An oncology social worker can help patients, families, and caregivers cope with cancer and the many challenges it brings. Their areas of expertise may include leading support groups, providing counseling, or connecting people with financial support resources and other practical resources. Genetic counselors. Genetic counselors are health professionals who can help you understand cancer genetics, and your and your family's cancer risk. Genetic information may be an important factor in your cancer treatment planning. Learn more about what to expect when meeting with a genetic counselor. Pathologist. A pathologist is a medical doctor who specializes in looking at cells, tissues, and organs to diagnose disease. You may or may not meet your pathologist in person, but your pathologist plays an important role in figuring out the type of cancer you have. Your pathologist will determine the results of your tests, provide the final diagnosis of cancer, and work directly with your oncologists. Oncology clinical pharmacist. Pharmacists who specialize in oncology are experts in the safe and effective use of drugs to treat cancer. They monitor your prescribed medications to notice, prevent, and manage any problems. This can include drug interactions, dosage adjustments, drug administration, and side effects. Registered dietitian (RD) or registered dietitian nutritionist (RDN). These professionals provide patients with education on their nutritional needs and eating well during and after treatment. This can include recommendations to help cope with weight changes, appetite loss, mouth sores, and other side effects. In hospitals and other health care centers, the dietitian provides medical nutrition therapy. Diagnostic radiologist. A radiologist is a medical doctor who uses imaging tests to help diagnose disease. The responsibilities of a diagnostic radiologist including reviewing and interpreting the results of imaging tests. Rehabilitation therapist, such as physical, occupational, speech, or recreational therapists. These professionals help people with cancer return to their highest level of functioning. For example, they can help people regain speech, mobility, and everyday tasks if treatment has affected their functioning. Learn more about cancer rehabilitation professionals. Mental health professionals. These are professionals who have special training to provide counseling services and include psychiatrists, psychologists, social workers, and licensed counselors. Learn more about counseling and mental health professionals in cancer care. Chaplain or spiritual support advisor. A chaplain offers spiritual support and rituals for people with cancer and their families. Most hospitals have clergy on staff who work with people from every faith and background, including people with no religious faith. These professionals may also lead support groups. Learn more about spiritual support during cancer. \",\n",
       "  \"What different types of professionals will be part of my cancer care team?\\n\\n\\nHow can each person help me during my treatment? After treatment?\\n\\n\\nAre my cancer care team members all at the same hospital/center or at different locations?\\n\\n\\nWhich doctor will lead my overall cancer treatment?\\n\\n\\nIs there one person I should contact with any questions I have? How can I get in touch with the different professionals on my team?\\n\\n\\nIf I experience a new side effect or a change in how I'm feeling, who should I tell?\\n\\n\\nAre there specific symptoms and side effects I should alert my team about right away?\\n\\n\\nWhat is the best way to get in touch with my cancer care team in an emergency?\\n\\n\\nWho can help me cope with the stress and emotions of cancer?\\n\\n\\nWhat is my health insurance coverage for different medical services? If I'm concerned with the costs of cancer care, who can help me? \",\n",
       "  'Finding a New Doctor Finding a Treatment Facility ',\n",
       "  'CancerCare: Your Health Care Team ',\n",
       "  'Cancer BasicsWhat is Cancer?\\nThe Cancer Care TeamThe Oncology Team\\nChoosing a Doctor for Your Cancer Care\\nTypes of Oncologists\\nSeeking a Second Opinion\\nFinding a New Doctor\\nFind an NCI-Designated Cancer Center\\n\\nWhat is Metastasis?\\nUnderstanding Statistics Used to Guide Prognosis and Evaluate Treatment\\nGenetics\\nMedical Illustrations Gallery\\nCancer Terms\\nOnline Medical Dictionaries\\n\\nDiagnosing Cancer\\nManaging Your Care\\nFinancial Considerations\\nHow Cancer is Treated\\nPalliative and Supportive Care\\nDating, Sex, and Reproduction\\nAdvanced Cancer\\nWhen Cancer Is Not Your Only Health Concern\\nFor Children\\nFor Young Adults and Teenagers\\nFor Adults 65+\\nFor U.S. Veterans\\nPrevention and Healthy Living\\nCancer.Net Videos ']}"
      ]
     },
     "execution_count": 11,
     "metadata": {},
     "output_type": "execute_result"
    }
   ],
   "source": [
    "get_topic_content('https://www.cancer.net/navigating-cancer-care/cancer-basics/cancer-care-team/oncology-team')"
   ]
  },
  {
   "cell_type": "code",
   "execution_count": 3,
   "metadata": {},
   "outputs": [],
   "source": [
    "try:\n",
    "    sections = get_sections()\n",
    "    for section_url in sections:\n",
    "        try:\n",
    "            section_topics = get_section_topics(section_url)\n",
    "            for section_topic_url in section_topics:\n",
    "                try:\n",
    "                    get_topic_content(section_topic_url)\n",
    "                except:\n",
    "                    continue\n",
    "        except:\n",
    "            continue\n",
    "\n",
    "except Exception as e:\n",
    "    pass"
   ]
  },
  {
   "cell_type": "code",
   "execution_count": null,
   "metadata": {},
   "outputs": [],
   "source": []
  }
 ],
 "metadata": {
  "kernelspec": {
   "display_name": "venv",
   "language": "python",
   "name": "python3"
  },
  "language_info": {
   "codemirror_mode": {
    "name": "ipython",
    "version": 3
   },
   "file_extension": ".py",
   "mimetype": "text/x-python",
   "name": "python",
   "nbconvert_exporter": "python",
   "pygments_lexer": "ipython3",
   "version": "3.10.12"
  }
 },
 "nbformat": 4,
 "nbformat_minor": 2
}
