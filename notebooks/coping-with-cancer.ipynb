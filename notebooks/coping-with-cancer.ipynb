{
 "cells": [
  {
   "cell_type": "markdown",
   "metadata": {},
   "source": [
    "## Coping With Cancer Data Extraction"
   ]
  },
  {
   "cell_type": "code",
   "execution_count": 2,
   "metadata": {},
   "outputs": [],
   "source": [
    "# Import Libraries\n",
    "import requests\n",
    "from bs4 import BeautifulSoup\n",
    "import pandas as pd\n",
    "import numpy as np\n",
    "import os\n",
    "import re"
   ]
  },
  {
   "cell_type": "code",
   "execution_count": 3,
   "metadata": {},
   "outputs": [
    {
     "data": {
      "text/plain": [
       "'/home/utpal108/dev/Python/Projects/cancer.net-web-scraping'"
      ]
     },
     "execution_count": 3,
     "metadata": {},
     "output_type": "execute_result"
    }
   ],
   "source": [
    "os.chdir('../')\n",
    "%pwd"
   ]
  },
  {
   "cell_type": "code",
   "execution_count": 4,
   "metadata": {},
   "outputs": [],
   "source": [
    "from webScraping.constants import *\n",
    "from webScraping.utils import getSectionUrl"
   ]
  },
  {
   "cell_type": "code",
   "execution_count": 5,
   "metadata": {},
   "outputs": [],
   "source": [
    "# Components\n",
    "class DataExtraction:\n",
    "\n",
    "    def __init__(self, dir_name):\n",
    "        self.headers = {'User-Agent': \"Mozilla/5.0 (Windows NT 10.0; Win64; x64) AppleWebKit/537.36 (KHTML, like Gecko) Chrome/42.0.2311.135 Safari/537.36 Edge/12.246\"}\n",
    "        self.dir_path = os.path.join('artifacts','data',dir_name)\n",
    "        self.skip_contents = skip_contents\n",
    "        self.partially_skip_contents = partially_skip_contents\n",
    "        os.makedirs(self.dir_path, exist_ok=True)\n",
    "        \n",
    "\n",
    "    def get_sections(self, URL):\n",
    "    \n",
    "        response = requests.get(URL, headers = self.headers)\n",
    "        soup = BeautifulSoup(response.content, 'html.parser')\n",
    "\n",
    "        sections_url = []\n",
    "        sections = soup.find('article')\n",
    "        sections = sections.find('div', class_='field-name-field-page-sub-pages').find('div', class_='field-items')\n",
    "        sections = sections.find_all('article')\n",
    "        \n",
    "\n",
    "        for section in sections:\n",
    "            sections_url.append(getSectionUrl(section))\n",
    "\n",
    "        return sections_url\n",
    "    \n",
    "\n",
    "    def get_section_topics(self, section_url):\n",
    "        response = requests.get(section_url, headers = self.headers)\n",
    "        soup = BeautifulSoup(response.content, 'html.parser')\n",
    "\n",
    "        section_topics_url = []\n",
    "        section_topics = soup.find('article')\n",
    "        if section_topics is not None:\n",
    "            section_topics = section_topics.find('div',class_='field-name-field-page-sub-pages')\n",
    "        if section_topics is None:\n",
    "            self.get_topic_content(section_url)\n",
    "        \n",
    "        else:\n",
    "            section_topics = section_topics.find('div',class_='field-items')\n",
    "\n",
    "            for section_topic in section_topics:\n",
    "                section_topics_url.append(getSectionUrl(section_topic))\n",
    "        \n",
    "        return section_topics_url\n",
    "    \n",
    "\n",
    "    def get_topic_content(self, topic_url):\n",
    "\n",
    "        response = requests.get(topic_url, headers = self.headers)\n",
    "        soup = BeautifulSoup(response.content, 'html.parser')\n",
    "\n",
    "        df  = {\n",
    "            'question':[],\n",
    "            'answer':[]\n",
    "        }\n",
    "\n",
    "        articles = soup.find_all('article')\n",
    "        \n",
    "        if len(articles) > 1:\n",
    "            section_topics = self.get_section_topics(topic_url)\n",
    "            for section_topic_url in section_topics:\n",
    "                self.get_topic_content(section_topic_url)\n",
    "        \n",
    "        topic_name = topic_url.split('/')[-1]\n",
    "        questions = soup.find_all('h3')\n",
    "        skip_contents = [content.lower() for content in self.skip_contents]\n",
    "        partially_skip_contents = [content.lower() for content in self.partially_skip_contents]\n",
    "        questions = [question for question in questions if question.text.strip() != '' and question.text.strip().lower() not in skip_contents and not any(re.findall(r\"\\b(\" + \"|\".join(partially_skip_contents) + r\")\\b\", question.text.strip().lower()))]\n",
    "        \n",
    "        for question in questions:\n",
    "            df['question'].append(question.text.strip())\n",
    "            \n",
    "            answer = \"\"\n",
    "            next_element = question.find_next_sibling()\n",
    "            while next_element and next_element.name != 'h3':\n",
    "                answer += next_element.text.strip() + \" \"\n",
    "                next_element = next_element.find_next_sibling()\n",
    "            \n",
    "            df['answer'].append(answer)\n",
    "\n",
    "        \n",
    "        if len(df['question']) > 0 and len(df['answer']) > 0:\n",
    "            data_path = os.path.join(self.dir_path,topic_name+'.csv')\n",
    "            df = pd.DataFrame(df)\n",
    "            df.to_csv(data_path, index=False)\n",
    "\n",
    "        "
   ]
  },
  {
   "cell_type": "code",
   "execution_count": 6,
   "metadata": {},
   "outputs": [
    {
     "name": "stdout",
     "output_type": "stream",
     "text": [
      "https://www.cancer.net/coping-with-cancer/managing-emotions/self-image-and-cancer\n",
      "https://www.cancer.net/coping-with-cancer/managing-emotions/coping-with-uncertainty\n",
      "https://www.cancer.net/coping-with-cancer/managing-emotions/managing-stress\n",
      "https://www.cancer.net/coping-with-cancer/managing-emotions/how-cope-with-anger\n",
      "https://www.cancer.net/coping-with-cancer/managing-emotions/anxiety\n",
      "https://www.cancer.net/coping-with-cancer/managing-emotions/depression\n",
      "https://www.cancer.net/coping-with-cancer/managing-emotions/managing-fear-side-effects-caused-cancer-treatment\n",
      "https://www.cancer.net/coping-with-cancer/managing-emotions/coping-with-guilt\n",
      "https://www.cancer.net/coping-with-cancer/managing-emotions/coping-with-metastatic-cancer\n",
      "https://www.cancer.net/coping-with-cancer/managing-emotions/grief-and-loss\n",
      "https://www.cancer.net/coping-with-cancer/managing-emotions/post-traumatic-stress-disorder-and-cancer\n",
      "https://www.cancer.net/coping-with-cancer/managing-emotions/post-traumatic-growth-and-cancer\n",
      "https://www.cancer.net/coping-with-cancer/physical-emotional-and-social-effects-cancer/what-palliative-and-supportive-care\n",
      "https://www.cancer.net/coping-with-cancer/physical-emotional-and-social-effects-cancer/types-palliative-and-supportive-care\n",
      "https://www.cancer.net/coping-with-cancer/physical-emotional-and-social-effects-cancer/getting-started-with-palliative-care\n",
      "https://www.cancer.net/coping-with-cancer/physical-emotional-and-social-effects-cancer/managing-physical-side-effects\n",
      "https://www.cancer.net/coping-with-cancer/physical-emotional-and-social-effects-cancer/spiritual-support-when-you-have-cancer\n",
      "https://www.cancer.net/coping-with-cancer/talking-with-family-and-friends/talking-about-cancer\n",
      "https://www.cancer.net/coping-with-cancer/talking-with-family-and-friends/how-cancer-affects-family-life\n",
      "https://www.cancer.net/coping-with-cancer/talking-with-family-and-friends/parenting-while-living-with-cancer\n",
      "https://www.cancer.net/coping-with-cancer/talking-with-family-and-friends/how-child-understands-cancer\n",
      "https://www.cancer.net/coping-with-cancer/talking-with-family-and-friends/supporting-friend-who-has-cancer\n",
      "https://www.cancer.net/coping-with-cancer/caring-loved-one/caregiving-basics\n",
      "https://www.cancer.net/coping-with-cancer/caring-loved-one/tips-being-successful-caregiver\n",
      "https://www.cancer.net/coping-with-cancer/caring-loved-one/caregivers-taking-care-themselves\n",
      "https://www.cancer.net/coping-with-cancer/caring-loved-one/sharing-responsibilities\n",
      "https://www.cancer.net/coping-with-cancer/caring-loved-one/caregiving-home\n",
      "https://www.cancer.net/coping-with-cancer/caring-loved-one/caregiving-hospital\n",
      "https://www.cancer.net/coping-with-cancer/caring-loved-one/hiring-home-care-services\n",
      "https://www.cancer.net/coping-with-cancer/caring-loved-one/long-distance-caregiving\n",
      "https://www.cancer.net/coping-with-cancer/caring-loved-one/young-adults-caring-parent-with-cancer\n",
      "https://www.cancer.net/coping-with-cancer/caring-loved-one/caregiving-adults-age-65-and-older\n",
      "https://www.cancer.net/coping-with-cancer/caring-loved-one/caring-person-with-brain-tumor-or-metastatic-brain-cancer\n",
      "https://www.cancer.net/coping-with-cancer/finding-social-support-and-information/counseling\n",
      "https://www.cancer.net/coping-with-c%C3%A1ncer/finding-social-support-and-information/support-groups\n",
      "https://www.cancer.net/coping-with-cancer/finding-social-support-and-information/finding-support-buddy\n",
      "https://www.cancer.net/coping-with-cancer/finding-social-support-and-information/online-communities-support\n",
      "https://www.cancer.net/coping-with-cancer/finding-social-support-and-information/telephone-and-e-mail-cancer-helplines\n",
      "https://www.cancer.net/coping-with-cancer/finding-social-support-and-information/wish-fulfillment-organizations-people-with-cancer\n",
      "https://www.cancer.net/coping-with-cancer/finding-support-and-information/general-cancer-groups\n",
      "https://www.cancer.net/coping-with-cancer/finding-support-and-information/cancer-specific-resources\n",
      "https://www.cancer.net/coping-with-cancer/finding-social-support-and-information/finding-information-and-support-resources-rare-cancers\n",
      "https://www.cancer.net/coping-with-cancer/finding-social-support-and-information/resources-lgbtq-people-with-cancer\n",
      "https://www.cancer.net/coping-with-cancer/finding-social-support-and-information/us-government-agencies-cancer-support\n",
      "https://www.cancer.net/coping-with-cancer/finding-social-support-and-information/international-patient-information\n"
     ]
    }
   ],
   "source": [
    "data_extraction = DataExtraction('coping-with-cancer')\n",
    "sections = data_extraction.get_sections('https://www.cancer.net/coping-with-cancer')\n",
    "for section_url in sections:\n",
    "    section_topics = data_extraction.get_section_topics(section_url)\n",
    "    for section_topic_url in section_topics:\n",
    "        print(section_topic_url)\n",
    "        data_extraction.get_topic_content(section_topic_url)"
   ]
  },
  {
   "cell_type": "code",
   "execution_count": 5,
   "metadata": {},
   "outputs": [],
   "source": [
    "# Pipeline\n",
    "try:\n",
    "    data_extraction = DataExtraction('coping-with-cancer')\n",
    "    sections = data_extraction.get_sections('https://www.cancer.net/coping-with-cancer')\n",
    "    for section_url in sections:\n",
    "        try:\n",
    "            section_topics = data_extraction.get_section_topics(section_url)\n",
    "            for section_topic_url in section_topics:\n",
    "                try:\n",
    "                    data_extraction.get_topic_content(section_topic_url)\n",
    "                except:\n",
    "                    continue\n",
    "        except:\n",
    "            continue\n",
    "\n",
    "except Exception as e:\n",
    "    pass"
   ]
  },
  {
   "cell_type": "code",
   "execution_count": null,
   "metadata": {},
   "outputs": [],
   "source": []
  }
 ],
 "metadata": {
  "kernelspec": {
   "display_name": "venv",
   "language": "python",
   "name": "python3"
  },
  "language_info": {
   "codemirror_mode": {
    "name": "ipython",
    "version": 3
   },
   "file_extension": ".py",
   "mimetype": "text/x-python",
   "name": "python",
   "nbconvert_exporter": "python",
   "pygments_lexer": "ipython3",
   "version": "3.10.12"
  }
 },
 "nbformat": 4,
 "nbformat_minor": 2
}
