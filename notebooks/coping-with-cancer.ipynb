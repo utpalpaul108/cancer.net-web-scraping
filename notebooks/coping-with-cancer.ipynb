{
 "cells": [
  {
   "cell_type": "markdown",
   "metadata": {},
   "source": [
    "## Coping With Cancer Data Extraction"
   ]
  },
  {
   "cell_type": "code",
   "execution_count": 1,
   "metadata": {},
   "outputs": [],
   "source": [
    "# Import Libraries\n",
    "import requests\n",
    "from bs4 import BeautifulSoup\n",
    "import pandas as pd\n",
    "import numpy as np\n",
    "import os"
   ]
  },
  {
   "cell_type": "code",
   "execution_count": 2,
   "metadata": {},
   "outputs": [],
   "source": [
    "headers = {'User-Agent': \"Mozilla/5.0 (Windows NT 10.0; Win64; x64) AppleWebKit/537.36 (KHTML, like Gecko) Chrome/42.0.2311.135 Safari/537.36 Edge/12.246\"} "
   ]
  },
  {
   "cell_type": "code",
   "execution_count": 3,
   "metadata": {},
   "outputs": [],
   "source": [
    "def get_sections():\n",
    "    \n",
    "    URL = 'https://www.cancer.net/coping-with-cancer'\n",
    "    response = requests.get(URL, headers = headers)\n",
    "    soup = BeautifulSoup(response.content, 'html.parser')\n",
    "\n",
    "    sections_url = []\n",
    "    sections = soup.find('article')\n",
    "    sections = sections.find('div', class_='field-name-field-page-sub-pages').find('div', class_='field-items')\n",
    "    sections = sections.find_all('article')\n",
    "\n",
    "    for section in sections:\n",
    "        sections_url.append('https://www.cancer.net' + section.select('header h3 a')[0]['href'])\n",
    "\n",
    "    return sections_url"
   ]
  },
  {
   "cell_type": "code",
   "execution_count": 4,
   "metadata": {},
   "outputs": [
    {
     "data": {
      "text/plain": [
       "['https://www.cancer.net/coping-with-cancer/managing-emotions',\n",
       " 'https://www.cancer.net/coping-with-cancer/physical-emotional-and-social-effects-cancer',\n",
       " 'https://www.cancer.net/coping-with-cancer/talking-with-family-and-friends',\n",
       " 'https://www.cancer.net/coping-with-cancer/caring-loved-one',\n",
       " 'https://www.cancer.net/coping-with-c%C3%A1ncer/finding-social-support-and-information',\n",
       " 'https://www.cancer.net/coping-with-cancer/cancer-oncologists-perspective']"
      ]
     },
     "execution_count": 4,
     "metadata": {},
     "output_type": "execute_result"
    }
   ],
   "source": [
    "get_sections()"
   ]
  },
  {
   "cell_type": "code",
   "execution_count": 9,
   "metadata": {},
   "outputs": [],
   "source": [
    "def get_section_topics(section_url):\n",
    "    response = requests.get(section_url, headers = headers)\n",
    "    soup = BeautifulSoup(response.content, 'html.parser')\n",
    "\n",
    "    section_topics_url = []\n",
    "    section_topics = soup.find('article')\n",
    "    section_topics = section_topics.find('div',class_='field-name-field-page-sub-pages').find('div',class_='field-items')\n",
    "\n",
    "    for section_topic in section_topics:\n",
    "        section_topics_url.append('https://www.cancer.net'+section_topic.select('header h3 a')[0]['href'])\n",
    "\n",
    "    return section_topics_url"
   ]
  },
  {
   "cell_type": "code",
   "execution_count": 10,
   "metadata": {},
   "outputs": [
    {
     "data": {
      "text/plain": [
       "['https://www.cancer.net/coping-with-cancer/managing-emotions/self-image-and-cancer',\n",
       " 'https://www.cancer.net/coping-with-cancer/managing-emotions/coping-with-uncertainty',\n",
       " 'https://www.cancer.net/coping-with-cancer/managing-emotions/managing-stress',\n",
       " 'https://www.cancer.net/coping-with-cancer/managing-emotions/how-cope-with-anger',\n",
       " 'https://www.cancer.net/coping-with-cancer/managing-emotions/anxiety',\n",
       " 'https://www.cancer.net/coping-with-cancer/managing-emotions/depression',\n",
       " 'https://www.cancer.net/coping-with-cancer/managing-emotions/managing-fear-side-effects-caused-cancer-treatment',\n",
       " 'https://www.cancer.net/coping-with-cancer/managing-emotions/coping-with-guilt',\n",
       " 'https://www.cancer.net/coping-with-cancer/managing-emotions/coping-with-metastatic-cancer',\n",
       " 'https://www.cancer.net/coping-with-cancer/managing-emotions/grief-and-loss',\n",
       " 'https://www.cancer.net/coping-with-cancer/managing-emotions/post-traumatic-stress-disorder-and-cancer',\n",
       " 'https://www.cancer.net/coping-with-cancer/managing-emotions/post-traumatic-growth-and-cancer']"
      ]
     },
     "execution_count": 10,
     "metadata": {},
     "output_type": "execute_result"
    }
   ],
   "source": [
    "get_section_topics('https://www.cancer.net/coping-with-cancer/managing-emotions')"
   ]
  },
  {
   "cell_type": "code",
   "execution_count": 7,
   "metadata": {},
   "outputs": [],
   "source": [
    "def get_topic_content(topic_url):\n",
    "\n",
    "    response = requests.get(topic_url, headers = headers)\n",
    "    soup = BeautifulSoup(response.content, 'html.parser')\n",
    "\n",
    "    coping_with_cancer_df  = {\n",
    "        'question':[],\n",
    "        'answer':[]\n",
    "    }\n",
    "\n",
    "    articles = soup.find_all('article')\n",
    "    \n",
    "    if len(articles) > 1:\n",
    "        section_topics = get_section_topics(topic_url)\n",
    "        for section_topic_url in section_topics:\n",
    "            get_topic_content(section_topic_url)\n",
    "    \n",
    "    else:\n",
    "        topic_name = topic_url.split('/')[-1]\n",
    "        questions = soup.find_all('h3')\n",
    "        \n",
    "        for question in questions:\n",
    "            coping_with_cancer_df['question'].append(question.text.strip())\n",
    "            \n",
    "            answer = \"\"\n",
    "            next_element = question.find_next_sibling()\n",
    "            while next_element and next_element.name != 'h3':\n",
    "                answer += next_element.text.strip() + \" \"\n",
    "                next_element = next_element.find_next_sibling()\n",
    "            \n",
    "            coping_with_cancer_df['answer'].append(answer)\n",
    "\n",
    "        df = pd.DataFrame(coping_with_cancer_df)\n",
    "        dir_path = 'data/coping-with-cancer'\n",
    "        os.makedirs(dir_path, exist_ok=True)\n",
    "        data_path = os.path.join(dir_path,topic_name+'.csv')\n",
    "        if len(coping_with_cancer_df['question']) > 0 and len(coping_with_cancer_df['answer']) > 0:\n",
    "            df.to_csv(data_path, index=False)\n",
    "\n",
    "        return coping_with_cancer_df"
   ]
  },
  {
   "cell_type": "code",
   "execution_count": 22,
   "metadata": {},
   "outputs": [],
   "source": [
    "get_topic_content('https://www.cancer.net/coping-with-cancer/physical-emotional-and-social-effects-cancer/managing-physical-side-effects')"
   ]
  },
  {
   "cell_type": "code",
   "execution_count": 8,
   "metadata": {},
   "outputs": [],
   "source": [
    "try:\n",
    "    sections = get_sections()\n",
    "    for section_url in sections:\n",
    "        try:\n",
    "            section_topics = get_section_topics(section_url)\n",
    "            for section_topic_url in section_topics:\n",
    "                try:\n",
    "                    get_topic_content(section_topic_url)\n",
    "                except:\n",
    "                    continue\n",
    "        except:\n",
    "            continue\n",
    "\n",
    "except Exception as e:\n",
    "    pass"
   ]
  },
  {
   "cell_type": "code",
   "execution_count": null,
   "metadata": {},
   "outputs": [],
   "source": []
  }
 ],
 "metadata": {
  "kernelspec": {
   "display_name": "venv",
   "language": "python",
   "name": "python3"
  },
  "language_info": {
   "codemirror_mode": {
    "name": "ipython",
    "version": 3
   },
   "file_extension": ".py",
   "mimetype": "text/x-python",
   "name": "python",
   "nbconvert_exporter": "python",
   "pygments_lexer": "ipython3",
   "version": "3.10.12"
  }
 },
 "nbformat": 4,
 "nbformat_minor": 2
}
