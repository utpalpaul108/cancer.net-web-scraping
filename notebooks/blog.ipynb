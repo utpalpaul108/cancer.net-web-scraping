{
 "cells": [
  {
   "cell_type": "markdown",
   "metadata": {},
   "source": [
    "## Blog Data Extraction"
   ]
  },
  {
   "cell_type": "code",
   "execution_count": 2,
   "metadata": {},
   "outputs": [],
   "source": [
    "# Import Libraries\n",
    "import requests\n",
    "from bs4 import BeautifulSoup\n",
    "import pandas as pd\n",
    "import numpy as np\n",
    "import os\n",
    "import re"
   ]
  },
  {
   "cell_type": "code",
   "execution_count": 3,
   "metadata": {},
   "outputs": [
    {
     "data": {
      "text/plain": [
       "'/home/utpal108/dev/Python/Projects/cancer.net-web-scraping'"
      ]
     },
     "execution_count": 3,
     "metadata": {},
     "output_type": "execute_result"
    }
   ],
   "source": [
    "os.chdir('../')\n",
    "%pwd"
   ]
  },
  {
   "cell_type": "code",
   "execution_count": 4,
   "metadata": {},
   "outputs": [],
   "source": [
    "from webScraping.constants import *\n",
    "from webScraping.utils import getSectionUrl, getFullUrl"
   ]
  },
  {
   "cell_type": "code",
   "execution_count": 5,
   "metadata": {},
   "outputs": [],
   "source": [
    "# Components\n",
    "class DataExtraction:\n",
    "\n",
    "    def __init__(self, dir_name):\n",
    "        self.headers = {'User-Agent': \"Mozilla/5.0 (Windows NT 10.0; Win64; x64) AppleWebKit/537.36 (KHTML, like Gecko) Chrome/42.0.2311.135 Safari/537.36 Edge/12.246\"}\n",
    "        self.dir_path = os.path.join('artifacts','data',dir_name)\n",
    "        self.skip_contents = skip_contents\n",
    "        self.partially_skip_contents = partially_skip_contents\n",
    "        os.makedirs(self.dir_path, exist_ok=True)\n",
    "        \n",
    "    \n",
    "    def get_total_pages(self, base_url='https://www.cancer.net/blog', single_page_url='https://www.cancer.net/blog?page='):\n",
    "        response = requests.get(base_url, headers=self.headers)\n",
    "        soup = BeautifulSoup(response.text, 'html.parser')\n",
    "        total_pages = []\n",
    "        pages = soup.find('li', {'class': 'pager-last'})\n",
    "        if pages is not None:\n",
    "            total_pages = int(pages.a['href'].split('=')[-1])\n",
    "            total_pages = [(single_page_url + str(page_no)) for page_no in range(1, (total_pages+1))]\n",
    "\n",
    "        return total_pages\n",
    "\n",
    "    def get_blog_posts(self, page_url):\n",
    "        response = requests.get(page_url, headers=self.headers)\n",
    "        soup = BeautifulSoup(response.text, 'html.parser')\n",
    "        all_posts = []\n",
    "        posts = soup.find('div',{'class' : 'view-content'})\n",
    "        if posts is not None:\n",
    "            posts = posts.find_all('div', {'class' : 'views-row'})\n",
    "            for post in posts:\n",
    "                blog_post_url = post.find('div',{'class' : 'views-field-title'}).a['href']\n",
    "                all_posts.append(getFullUrl(blog_post_url))\n",
    "        return all_posts\n",
    "\n",
    "\n",
    "    def get_topic_content(self, topic_url):\n",
    "\n",
    "        response = requests.get(topic_url, headers = self.headers)\n",
    "        soup = BeautifulSoup(response.content, 'html.parser')\n",
    "\n",
    "        df = {\n",
    "            'question':[],\n",
    "            'answer':[]\n",
    "        }\n",
    "\n",
    "        articles = soup.find_all('article')\n",
    "        \n",
    "        if len(articles) > 1:\n",
    "            section_topics = self.get_section_topics(topic_url)\n",
    "            for section_topic_url in section_topics:\n",
    "                self.get_topic_content(section_topic_url)\n",
    "        \n",
    "        topic_name = topic_url.split('/')[-1]\n",
    "        questions = soup.find_all('h3')\n",
    "        skip_contents = [content.lower() for content in self.skip_contents]\n",
    "        partially_skip_contents = [content.lower() for content in self.partially_skip_contents]\n",
    "        questions = [question for question in questions if question.text.strip() != '' and question.text.strip().lower() not in skip_contents and not any(re.findall(r\"\\b(\" + \"|\".join(partially_skip_contents) + r\")\\b\", question.text.strip().lower()))]\n",
    "        \n",
    "        for question in questions:\n",
    "            df['question'].append(question.text.strip())\n",
    "            \n",
    "            answer = \"\"\n",
    "            next_element = question.find_next_sibling()\n",
    "            while next_element and next_element.name != 'h3':\n",
    "                answer += next_element.text.strip() + \" \"\n",
    "                next_element = next_element.find_next_sibling()\n",
    "            \n",
    "            df['answer'].append(answer)\n",
    "\n",
    "        \n",
    "        if len(df['question']) > 0 and len(df['answer']) > 0:\n",
    "            data_path = os.path.join(self.dir_path,topic_name+'.csv')\n",
    "            df = pd.DataFrame(df)\n",
    "            df.to_csv(data_path, index=False)\n",
    "\n",
    "        "
   ]
  },
  {
   "cell_type": "code",
   "execution_count": 6,
   "metadata": {},
   "outputs": [
    {
     "name": "stdout",
     "output_type": "stream",
     "text": [
      "['https://www.cancer.net/blog?page=1', 'https://www.cancer.net/blog?page=2', 'https://www.cancer.net/blog?page=3', 'https://www.cancer.net/blog?page=4', 'https://www.cancer.net/blog?page=5', 'https://www.cancer.net/blog?page=6', 'https://www.cancer.net/blog?page=7', 'https://www.cancer.net/blog?page=8', 'https://www.cancer.net/blog?page=9', 'https://www.cancer.net/blog?page=10', 'https://www.cancer.net/blog?page=11', 'https://www.cancer.net/blog?page=12', 'https://www.cancer.net/blog?page=13', 'https://www.cancer.net/blog?page=14']\n"
     ]
    }
   ],
   "source": [
    "data_extraction = DataExtraction('blog')\n",
    "total_pages = data_extraction.get_total_pages('https://www.cancer.net/blog')\n",
    "print(total_pages)\n",
    "# type(total_pages)\n",
    "# data_extraction.get_page_contents(total_pages)"
   ]
  },
  {
   "cell_type": "code",
   "execution_count": 7,
   "metadata": {},
   "outputs": [
    {
     "data": {
      "text/plain": [
       "['https://www.cancer.net/blog/2024-02/3-steps-making-right-decisions-you-during-cancer-experts-perspective',\n",
       " 'https://www.cancer.net/blog/2024-02/10-things-helped-me-cope-with-my-2-cancer-diagnoses-survivors-story',\n",
       " 'https://www.cancer.net/blog/2024-02/2024-february-plenary',\n",
       " 'https://www.cancer.net/blog/2024-02/4-steps-we-can-all-take-world-cancer-day-reduce-global-cancer-burden',\n",
       " 'https://www.cancer.net/blog/2024-02/can-being-exposed-wildfire-smoke-affect-your-cancer-risk']"
      ]
     },
     "execution_count": 7,
     "metadata": {},
     "output_type": "execute_result"
    }
   ],
   "source": [
    "posts = data_extraction.get_blog_posts('https://www.cancer.net/blog?page=1')\n",
    "posts"
   ]
  },
  {
   "cell_type": "code",
   "execution_count": 9,
   "metadata": {},
   "outputs": [],
   "source": [
    "data_extraction.get_topic_content('https://www.cancer.net/blog/2024-02/balancing-hope-with-realism-setting-expectations-when-starting-new-cancer-treatment')"
   ]
  },
  {
   "cell_type": "code",
   "execution_count": 10,
   "metadata": {},
   "outputs": [
    {
     "name": "stdout",
     "output_type": "stream",
     "text": [
      "['https://www.cancer.net/blog?page=1', 'https://www.cancer.net/blog?page=2', 'https://www.cancer.net/blog?page=3', 'https://www.cancer.net/blog?page=4', 'https://www.cancer.net/blog?page=5', 'https://www.cancer.net/blog?page=6', 'https://www.cancer.net/blog?page=7', 'https://www.cancer.net/blog?page=8', 'https://www.cancer.net/blog?page=9', 'https://www.cancer.net/blog?page=10', 'https://www.cancer.net/blog?page=11', 'https://www.cancer.net/blog?page=12', 'https://www.cancer.net/blog?page=13', 'https://www.cancer.net/blog?page=14']\n",
      "https://www.cancer.net/blog/2024-02/3-steps-making-right-decisions-you-during-cancer-experts-perspective\n",
      "https://www.cancer.net/blog/2024-02/10-things-helped-me-cope-with-my-2-cancer-diagnoses-survivors-story\n",
      "https://www.cancer.net/blog/2024-02/2024-february-plenary\n",
      "https://www.cancer.net/blog/2024-02/4-steps-we-can-all-take-world-cancer-day-reduce-global-cancer-burden\n",
      "https://www.cancer.net/blog/2024-02/can-being-exposed-wildfire-smoke-affect-your-cancer-risk\n",
      "https://www.cancer.net/blog/2024-01/3-things-reduce-stress-during-cancer-treatment-patients-perspective\n",
      "https://www.cancer.net/blog/2024-01/what-cancer-survivors-should-know-about-survivorship-research-expert-perspectives\n",
      "https://www.cancer.net/blog/2024-01/2024-genitourinary-cancers-symposium\n",
      "https://www.cancer.net/blog/2024-01/2023-highlights-treating-genitourinary-cancers-expert-perspectives\n",
      "https://www.cancer.net/blog/2024-01/how-find-reliable-and-affordable-transportation-during-cancer\n",
      "https://www.cancer.net/blog/2024-01/2024-gastrointestinal-cancers-symposium\n",
      "https://www.cancer.net/es/blog/2024-01/qu%C3%A9-debo-saber-sobre-la-mastectom%C3%ADa-con-cierre-plano-despu%C3%A9s-de-un-diagn%C3%B3stico-de-c%C3%A1ncer-de-mama-la\n",
      "https://www.cancer.net/blog/2024-01/cancer-my-community-developing-pediatric-palliative-and-supportive-care-turkey\n",
      "https://www.cancer.net/blog/2024-01/using-mind-body-connection-help-you-cope-during-cancer-expert-perspective\n",
      "https://www.cancer.net/blog/2024-01/7-practical-tips-taking-long-term-medication\n",
      "https://www.cancer.net/blog/2024-01/exploring-coping-resources-help-with-physical-practical-and-emotional-challenges-during-cancer\n",
      "https://www.cancer.net/es/blog/2024-01/lo-que-deben-saber-las-personas-con-c%C3%A1ncer-de-mama-y-las-sobrevivientes-sobre-el-ejercicio-despu%C3%A9s\n",
      "https://www.cancer.net/blog/2024-01/4-tips-oncology-dietitians-healthier-eating-during-cancer\n",
      "https://www.cancer.net/blog/2023-12/how-early-cancer-detection-and-diagnosis-saved-my-life-twice-survivors-story\n",
      "https://www.cancer.net/blog/2023-12/what-know-about-using-activated-charcoal-during-cancer\n",
      "https://www.cancer.net/blog/2023-12/holidays-and-hope-when-loved-one-has-advanced-cancer\n",
      "https://www.cancer.net/blog/2023-12/how-my-cancer-diagnosis-has-fueled-my-work-improving-access-cancer-care-expert-perspective\n",
      "https://www.cancer.net/blog/2023-12/how-were-working-build-cancer-survivorship-community-survivors-perspectives\n",
      "https://www.cancer.net/es/blog/2023-12/c%C3%B3mo-solicitar-medicare-cuando-tiene-c%C3%A1ncer\n",
      "https://www.cancer.net/blog/2023-12/cancer-my-community-caring-whole-patient-brazil\n",
      "https://www.cancer.net/blog/2023-12/how-joining-clinical-trial-helped-me-find-hope-while-living-with-genetic-cancer-condition\n",
      "https://www.cancer.net/blog/2023-11/learning-live-with-cancer-survivors-story\n",
      "https://www.cancer.net/es/blog/2023-11/qu%C3%A9-debo-saber-sobre-los-programas-de-emparejamiento-de-ensayos-cl%C3%ADnicos-sobre-el-c%C3%A1ncer\n",
      "https://www.cancer.net/blog/2023-11/how-im-working-erase-stigma-lung-cancer-survivors-story\n",
      "https://www.cancer.net/blog/2023-11/how-talk-about-advanced-cancer-care-planning-expert-discussion\n",
      "https://www.cancer.net/blog/2023-11/spotlight-exercise-physiologists-cancer-care\n",
      "https://www.cancer.net/es/blog/2023-11/qu%C3%A9-saber-sobre-los-diferentes-tipos-de-mastectom%C3%ADas-para-el-c%C3%A1ncer-de-mama-perspectiva-de-un\n",
      "https://www.cancer.net/blog/2023-11/what-know-about-coping-with-breast-cancer-during-pregnancy-expert-perspective\n",
      "https://www.cancer.net/blog/2023-11/finding-new-uses-targeted-therapies-cancer-updates-tapur-study\n",
      "https://www.cancer.net/blog/2023-11/what-know-about-treatment-options-and-after-surgery-early-stage-non-small-cell-lung-cancer\n",
      "https://www.cancer.net/blog/2023-11/targeted-therapy-claudin-182-and-combined-pd-1-and-tigit-immunotherapy-advanced-cancers-stomach-and\n",
      "https://www.cancer.net/blog/2023-11/7-steps-developing-microhabits-during-cancer-can-improve-your-overall-well-being\n",
      "https://www.cancer.net/blog/2023-10/4-ways-avoid-comparing-yourself-others-social-media-during-cancer-and-survivorship\n",
      "https://www.cancer.net/blog/2023-10/genetic-counseling-hereditary-breast-cancer-what-people-with-family-history-breast-cancer-should\n",
      "https://www.cancer.net/blog/2023-10/how-therapy-helped-me-cope-during-cancer-survivor%E2%80%99s-perspective\n",
      "https://www.cancer.net/blog/2023-10/saving-time-patients-and-improving-well-being-through-mindfulness-and-fitness-research-2023-asco\n",
      "https://www.cancer.net/blog/2023-10/receiving-blood-transfusion-during-cancer-what-know-and-what-expect\n",
      "https://www.cancer.net/blog/2023-10/how-discuss-your-goals-care-with-your-cancer-care-team-expert-discussion\n",
      "https://www.cancer.net/es/blog/2023-10/c%C3%B3mo-los-ensayos-cl%C3%ADnicos-pueden-llevar-un-tratamiento-que-salve-vidas-la-investigaci%C3%B3n-tapur-y-la\n",
      "https://www.cancer.net/blog/2023-10/how-clinical-trials-can-lead-life-saving-treatment-tapur-trial-and-patient%E2%80%99s-experience\n",
      "https://www.cancer.net/blog/2023-10/giving-myself-most-time-and-best-chance-beating-cancer-patient%E2%80%99s-perspective\n",
      "https://www.cancer.net/blog/2023-10/palliative-and-supportive-care-children-with-cancer-expert-perspective\n",
      "https://www.cancer.net/blog/2023-10/getting-better-sleep-when-you-have-cancer-related-insomnia-expert-qa\n",
      "https://www.cancer.net/blog/2023-09/2023-asco-annual-meeting-research-round-new-research-treating-lung-cancer-and-mesothelioma\n",
      "https://www.cancer.net/blog/2023-09/what-know-about-navigating-your-cancer-care-during-extreme-weather-event\n",
      "https://www.cancer.net/blog/2023-09/what-people-with-cancer-and-survivors-should-know-about-vaping-expert-perspective\n",
      "https://www.cancer.net/blog/2023-09/2023-asco-annual-meeting-research-round-improving-symptom-monitoring-and-reducing-disparities\n",
      "https://www.cancer.net/blog/2023-09/does-eating-processed-meat-increase-your-risk-cancer\n",
      "https://www.cancer.net/es/blog/2023-09/%C2%BFcomer-alimentos-la-parrilla-o-asados-puede-provocar-c%C3%A1ncer\n",
      "https://www.cancer.net/blog/2023-09/2023-asco-annual-meeting-research-round-progress-preventing-melanoma-recurrence-and-improving-equity\n",
      "https://www.cancer.net/blog/2023-09/how-cope-with-and-discuss-uncertain-cancer-prognosis-expert-perspective\n",
      "https://www.cancer.net/blog/2023-09/what-people-asian-american-and-pacific-islander-communities-should-know-about-their-cancer-risk\n",
      "https://www.cancer.net/es/blog/2023-08/%C2%BFpuede-protegerlo-un-%E2%80%9Cbronceado-base%E2%80%9D-de-las-quemaduras-solares-y-del-c%C3%A1ncer-de-piel\n",
      "https://www.cancer.net/blog/2023-08/should-people-with-cancer-and-cancer-survivors-get-flu-vaccine\n",
      "https://www.cancer.net/blog/2023-08/how-alcohol-increases-your-cancer-risk-and-what-know-about-reducing-it\n",
      "https://www.cancer.net/blog/2023-08/cancer-my-community-addressing-regional-cancer-disparities-peru\n",
      "https://www.cancer.net/blog/2023-08/how-running-and-training-marathon-helped-me-cope-after-cancer-survivor%E2%80%99s-story\n",
      "https://www.cancer.net/blog/2023-08/2023-asco-annual-meeting-research-round-advances-treating-gynecologic-cancers-multiple-myeloma-and\n",
      "https://www.cancer.net/blog/2023-08/coping-with-life-after-bone-marrow-transplant-survivor%E2%80%99s-story\n",
      "https://www.cancer.net/blog/2023-08/how-find-right-hospice-care-program-you-or-your-loved-one-during-advanced-cancer\n",
      "https://www.cancer.net/blog/2023-08/what-know-about-exercising-during-prostate-cancer-expert-qa\n",
      "https://www.cancer.net/blog/2023-08/cancer-my-community-working-toward-early-diagnosis-children-with-cancer-ghana\n",
      "https://www.cancer.net/blog/2023-08/coping-with-difficult-times-cancer-survivorship-through-my-%E2%80%9Cbucket-list%E2%80%9D-survivor%E2%80%99s-story\n",
      "https://www.cancer.net/blog/2023-07/2023-asco-breakthrough\n",
      "https://www.cancer.net/blog/2023-07/2023-asco-annual-meeting-research-round-progress-treating-breast-cancer-lymphoma-multiple-myeloma\n"
     ]
    }
   ],
   "source": [
    "data_extraction = DataExtraction('blog')\n",
    "pages = data_extraction.get_total_pages(base_url='https://www.cancer.net/blog', single_page_url='https://www.cancer.net/blog?page=')\n",
    "print(pages)\n",
    "for page in pages:\n",
    "    blog_posts = data_extraction.get_blog_posts(page)\n",
    "    for blog_post_url in blog_posts:\n",
    "        print(blog_post_url)\n",
    "        data_extraction.get_topic_content(blog_post_url)"
   ]
  },
  {
   "cell_type": "code",
   "execution_count": null,
   "metadata": {},
   "outputs": [],
   "source": []
  }
 ],
 "metadata": {
  "kernelspec": {
   "display_name": "venv",
   "language": "python",
   "name": "python3"
  },
  "language_info": {
   "codemirror_mode": {
    "name": "ipython",
    "version": 3
   },
   "file_extension": ".py",
   "mimetype": "text/x-python",
   "name": "python",
   "nbconvert_exporter": "python",
   "pygments_lexer": "ipython3",
   "version": "3.10.12"
  }
 },
 "nbformat": 4,
 "nbformat_minor": 2
}
